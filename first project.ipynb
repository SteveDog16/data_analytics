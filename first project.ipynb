{
 "cells": [
  {
   "cell_type": "markdown",
   "id": "0c66977f-eece-450d-ac6b-f220ebde9384",
   "metadata": {},
   "source": [
    "# GPA and Study Hours Relationship Analytics"
   ]
  },
  {
   "cell_type": "markdown",
   "id": "cd862458-e800-4cab-9009-900ccc12d0d8",
   "metadata": {},
   "source": [
    "## Importing Libraries"
   ]
  },
  {
   "cell_type": "code",
   "execution_count": 5,
   "id": "34636c02-2e7c-4d7e-8b27-87b89f9e61cb",
   "metadata": {},
   "outputs": [],
   "source": [
    "import pandas as pd\n",
    "import numpy as np\n",
    "import matplotlib.pyplot as plt\n",
    "import datetime as dt\n",
    "import seaborn as sns"
   ]
  },
  {
   "cell_type": "markdown",
   "id": "668d12c7-cc69-4c9e-affb-2292c6b8cdcb",
   "metadata": {},
   "source": [
    "## Read in the data source from Kaggle"
   ]
  },
  {
   "cell_type": "code",
   "execution_count": 16,
   "id": "605fa926-64f5-4b74-a89b-6a9f640eccec",
   "metadata": {},
   "outputs": [],
   "source": [
    "#source: https://www.kaggle.com/datasets/joebeachcapital/gpa-study-hours\n",
    "df = pd.read_csv('gpa_study_hours.csv')"
   ]
  },
  {
   "cell_type": "markdown",
   "id": "3226068d-8b48-4f9f-97b3-6e59444161a0",
   "metadata": {},
   "source": [
    "### Discovering the dataframe"
   ]
  },
  {
   "cell_type": "code",
   "execution_count": 93,
   "id": "6e206dd0-4ba0-4660-9368-e9e3d4708a7c",
   "metadata": {},
   "outputs": [
    {
     "data": {
      "text/html": [
       "<div>\n",
       "<style scoped>\n",
       "    .dataframe tbody tr th:only-of-type {\n",
       "        vertical-align: middle;\n",
       "    }\n",
       "\n",
       "    .dataframe tbody tr th {\n",
       "        vertical-align: top;\n",
       "    }\n",
       "\n",
       "    .dataframe thead th {\n",
       "        text-align: right;\n",
       "    }\n",
       "</style>\n",
       "<table border=\"1\" class=\"dataframe\">\n",
       "  <thead>\n",
       "    <tr style=\"text-align: right;\">\n",
       "      <th></th>\n",
       "      <th>gpa</th>\n",
       "      <th>study_hours</th>\n",
       "    </tr>\n",
       "  </thead>\n",
       "  <tbody>\n",
       "    <tr>\n",
       "      <th>0</th>\n",
       "      <td>4.00</td>\n",
       "      <td>10.00</td>\n",
       "    </tr>\n",
       "    <tr>\n",
       "      <th>1</th>\n",
       "      <td>3.80</td>\n",
       "      <td>25.00</td>\n",
       "    </tr>\n",
       "    <tr>\n",
       "      <th>2</th>\n",
       "      <td>3.93</td>\n",
       "      <td>45.00</td>\n",
       "    </tr>\n",
       "    <tr>\n",
       "      <th>3</th>\n",
       "      <td>3.40</td>\n",
       "      <td>10.00</td>\n",
       "    </tr>\n",
       "    <tr>\n",
       "      <th>4</th>\n",
       "      <td>3.20</td>\n",
       "      <td>4.00</td>\n",
       "    </tr>\n",
       "  </tbody>\n",
       "</table>\n",
       "</div>"
      ],
      "text/plain": [
       "   gpa  study_hours\n",
       "0 4.00        10.00\n",
       "1 3.80        25.00\n",
       "2 3.93        45.00\n",
       "3 3.40        10.00\n",
       "4 3.20         4.00"
      ]
     },
     "execution_count": 93,
     "metadata": {},
     "output_type": "execute_result"
    }
   ],
   "source": [
    "df.head()"
   ]
  },
  {
   "cell_type": "code",
   "execution_count": 59,
   "id": "b43311de-366c-4edb-9ff1-696c3de34a3f",
   "metadata": {},
   "outputs": [
    {
     "data": {
      "text/plain": [
       "193"
      ]
     },
     "execution_count": 59,
     "metadata": {},
     "output_type": "execute_result"
    }
   ],
   "source": [
    "len(df.index)"
   ]
  },
  {
   "cell_type": "code",
   "execution_count": 60,
   "id": "e31f1443-312f-4237-bd8e-4b2710d50423",
   "metadata": {},
   "outputs": [
    {
     "data": {
      "text/plain": [
       "2"
      ]
     },
     "execution_count": 60,
     "metadata": {},
     "output_type": "execute_result"
    }
   ],
   "source": [
    "len(df.columns)"
   ]
  },
  {
   "cell_type": "code",
   "execution_count": 10,
   "id": "47462ea7-db26-4e14-8643-fc55a2b1e36e",
   "metadata": {},
   "outputs": [
    {
     "data": {
      "text/html": [
       "<div>\n",
       "<style scoped>\n",
       "    .dataframe tbody tr th:only-of-type {\n",
       "        vertical-align: middle;\n",
       "    }\n",
       "\n",
       "    .dataframe tbody tr th {\n",
       "        vertical-align: top;\n",
       "    }\n",
       "\n",
       "    .dataframe thead th {\n",
       "        text-align: right;\n",
       "    }\n",
       "</style>\n",
       "<table border=\"1\" class=\"dataframe\">\n",
       "  <thead>\n",
       "    <tr style=\"text-align: right;\">\n",
       "      <th></th>\n",
       "      <th>gpa</th>\n",
       "      <th>study_hours</th>\n",
       "    </tr>\n",
       "  </thead>\n",
       "  <tbody>\n",
       "    <tr>\n",
       "      <th>count</th>\n",
       "      <td>193.000000</td>\n",
       "      <td>193.000000</td>\n",
       "    </tr>\n",
       "    <tr>\n",
       "      <th>mean</th>\n",
       "      <td>3.586166</td>\n",
       "      <td>17.476684</td>\n",
       "    </tr>\n",
       "    <tr>\n",
       "      <th>std</th>\n",
       "      <td>0.285482</td>\n",
       "      <td>11.408980</td>\n",
       "    </tr>\n",
       "    <tr>\n",
       "      <th>min</th>\n",
       "      <td>2.600000</td>\n",
       "      <td>2.000000</td>\n",
       "    </tr>\n",
       "    <tr>\n",
       "      <th>25%</th>\n",
       "      <td>3.400000</td>\n",
       "      <td>10.000000</td>\n",
       "    </tr>\n",
       "    <tr>\n",
       "      <th>50%</th>\n",
       "      <td>3.620000</td>\n",
       "      <td>15.000000</td>\n",
       "    </tr>\n",
       "    <tr>\n",
       "      <th>75%</th>\n",
       "      <td>3.800000</td>\n",
       "      <td>20.000000</td>\n",
       "    </tr>\n",
       "    <tr>\n",
       "      <th>max</th>\n",
       "      <td>4.300000</td>\n",
       "      <td>69.000000</td>\n",
       "    </tr>\n",
       "  </tbody>\n",
       "</table>\n",
       "</div>"
      ],
      "text/plain": [
       "              gpa  study_hours\n",
       "count  193.000000   193.000000\n",
       "mean     3.586166    17.476684\n",
       "std      0.285482    11.408980\n",
       "min      2.600000     2.000000\n",
       "25%      3.400000    10.000000\n",
       "50%      3.620000    15.000000\n",
       "75%      3.800000    20.000000\n",
       "max      4.300000    69.000000"
      ]
     },
     "execution_count": 10,
     "metadata": {},
     "output_type": "execute_result"
    }
   ],
   "source": [
    "df.describe()"
   ]
  },
  {
   "cell_type": "code",
   "execution_count": 11,
   "id": "5ebd782b-e0d5-4abd-9404-ffc0d4772e35",
   "metadata": {},
   "outputs": [
    {
     "name": "stdout",
     "output_type": "stream",
     "text": [
      "<class 'pandas.core.frame.DataFrame'>\n",
      "RangeIndex: 193 entries, 0 to 192\n",
      "Data columns (total 2 columns):\n",
      " #   Column       Non-Null Count  Dtype  \n",
      "---  ------       --------------  -----  \n",
      " 0   gpa          193 non-null    float64\n",
      " 1   study_hours  193 non-null    float64\n",
      "dtypes: float64(2)\n",
      "memory usage: 3.1 KB\n"
     ]
    }
   ],
   "source": [
    "df.info()"
   ]
  },
  {
   "cell_type": "markdown",
   "id": "3b2aedf5-7834-4833-9d02-fe7827167fc1",
   "metadata": {},
   "source": [
    "### Created a variable that stores mean GPA values by study hours"
   ]
  },
  {
   "cell_type": "code",
   "execution_count": 23,
   "id": "b3b889c4-74f6-4e3f-8f32-678640899a91",
   "metadata": {},
   "outputs": [
    {
     "data": {
      "text/html": [
       "<div>\n",
       "<style scoped>\n",
       "    .dataframe tbody tr th:only-of-type {\n",
       "        vertical-align: middle;\n",
       "    }\n",
       "\n",
       "    .dataframe tbody tr th {\n",
       "        vertical-align: top;\n",
       "    }\n",
       "\n",
       "    .dataframe thead th {\n",
       "        text-align: right;\n",
       "    }\n",
       "</style>\n",
       "<table border=\"1\" class=\"dataframe\">\n",
       "  <thead>\n",
       "    <tr style=\"text-align: right;\">\n",
       "      <th></th>\n",
       "      <th>gpa</th>\n",
       "    </tr>\n",
       "    <tr>\n",
       "      <th>study_hours</th>\n",
       "      <th></th>\n",
       "    </tr>\n",
       "  </thead>\n",
       "  <tbody>\n",
       "    <tr>\n",
       "      <th>6.50</th>\n",
       "      <td>2.95</td>\n",
       "    </tr>\n",
       "    <tr>\n",
       "      <th>9.00</th>\n",
       "      <td>3.00</td>\n",
       "    </tr>\n",
       "    <tr>\n",
       "      <th>18.00</th>\n",
       "      <td>3.10</td>\n",
       "    </tr>\n",
       "    <tr>\n",
       "      <th>36.00</th>\n",
       "      <td>3.12</td>\n",
       "    </tr>\n",
       "    <tr>\n",
       "      <th>12.50</th>\n",
       "      <td>3.30</td>\n",
       "    </tr>\n",
       "    <tr>\n",
       "      <th>16.00</th>\n",
       "      <td>3.38</td>\n",
       "    </tr>\n",
       "    <tr>\n",
       "      <th>7.00</th>\n",
       "      <td>3.39</td>\n",
       "    </tr>\n",
       "    <tr>\n",
       "      <th>4.00</th>\n",
       "      <td>3.40</td>\n",
       "    </tr>\n",
       "    <tr>\n",
       "      <th>3.00</th>\n",
       "      <td>3.45</td>\n",
       "    </tr>\n",
       "    <tr>\n",
       "      <th>5.00</th>\n",
       "      <td>3.46</td>\n",
       "    </tr>\n",
       "    <tr>\n",
       "      <th>24.00</th>\n",
       "      <td>3.48</td>\n",
       "    </tr>\n",
       "    <tr>\n",
       "      <th>49.00</th>\n",
       "      <td>3.50</td>\n",
       "    </tr>\n",
       "    <tr>\n",
       "      <th>14.00</th>\n",
       "      <td>3.53</td>\n",
       "    </tr>\n",
       "    <tr>\n",
       "      <th>8.00</th>\n",
       "      <td>3.54</td>\n",
       "    </tr>\n",
       "    <tr>\n",
       "      <th>35.00</th>\n",
       "      <td>3.54</td>\n",
       "    </tr>\n",
       "    <tr>\n",
       "      <th>30.00</th>\n",
       "      <td>3.55</td>\n",
       "    </tr>\n",
       "    <tr>\n",
       "      <th>21.00</th>\n",
       "      <td>3.57</td>\n",
       "    </tr>\n",
       "    <tr>\n",
       "      <th>6.00</th>\n",
       "      <td>3.59</td>\n",
       "    </tr>\n",
       "    <tr>\n",
       "      <th>11.00</th>\n",
       "      <td>3.60</td>\n",
       "    </tr>\n",
       "    <tr>\n",
       "      <th>15.00</th>\n",
       "      <td>3.60</td>\n",
       "    </tr>\n",
       "    <tr>\n",
       "      <th>40.00</th>\n",
       "      <td>3.64</td>\n",
       "    </tr>\n",
       "    <tr>\n",
       "      <th>20.00</th>\n",
       "      <td>3.64</td>\n",
       "    </tr>\n",
       "    <tr>\n",
       "      <th>10.00</th>\n",
       "      <td>3.65</td>\n",
       "    </tr>\n",
       "    <tr>\n",
       "      <th>12.00</th>\n",
       "      <td>3.67</td>\n",
       "    </tr>\n",
       "    <tr>\n",
       "      <th>25.00</th>\n",
       "      <td>3.74</td>\n",
       "    </tr>\n",
       "    <tr>\n",
       "      <th>28.00</th>\n",
       "      <td>3.75</td>\n",
       "    </tr>\n",
       "    <tr>\n",
       "      <th>45.00</th>\n",
       "      <td>3.82</td>\n",
       "    </tr>\n",
       "    <tr>\n",
       "      <th>60.00</th>\n",
       "      <td>3.83</td>\n",
       "    </tr>\n",
       "    <tr>\n",
       "      <th>69.00</th>\n",
       "      <td>3.85</td>\n",
       "    </tr>\n",
       "    <tr>\n",
       "      <th>2.00</th>\n",
       "      <td>3.86</td>\n",
       "    </tr>\n",
       "  </tbody>\n",
       "</table>\n",
       "</div>"
      ],
      "text/plain": [
       "             gpa\n",
       "study_hours     \n",
       "6.50        2.95\n",
       "9.00        3.00\n",
       "18.00       3.10\n",
       "36.00       3.12\n",
       "12.50       3.30\n",
       "16.00       3.38\n",
       "7.00        3.39\n",
       "4.00        3.40\n",
       "3.00        3.45\n",
       "5.00        3.46\n",
       "24.00       3.48\n",
       "49.00       3.50\n",
       "14.00       3.53\n",
       "8.00        3.54\n",
       "35.00       3.54\n",
       "30.00       3.55\n",
       "21.00       3.57\n",
       "6.00        3.59\n",
       "11.00       3.60\n",
       "15.00       3.60\n",
       "40.00       3.64\n",
       "20.00       3.64\n",
       "10.00       3.65\n",
       "12.00       3.67\n",
       "25.00       3.74\n",
       "28.00       3.75\n",
       "45.00       3.82\n",
       "60.00       3.83\n",
       "69.00       3.85\n",
       "2.00        3.86"
      ]
     },
     "execution_count": 23,
     "metadata": {},
     "output_type": "execute_result"
    }
   ],
   "source": [
    "#hour_by_gpa = df.groupby(['study_hours']).mean()[['gpa']]\n",
    "hour_by_gpa = df.groupby(['study_hours']).mean()[['gpa']]\n",
    "hour_by_gpa = hour_by_gpa.sort_values(by=['gpa'])\n",
    "pd.options.display.float_format = '{:.2f}'.format\n",
    "hour_by_gpa"
   ]
  },
  {
   "cell_type": "markdown",
   "id": "183e89c1-9c44-4cbd-9a8a-e880d071022a",
   "metadata": {},
   "source": [
    "### Number of unique GPA values"
   ]
  },
  {
   "cell_type": "code",
   "execution_count": 68,
   "id": "f19fd9a6-e587-438e-976e-c1894179c3c7",
   "metadata": {},
   "outputs": [
    {
     "data": {
      "text/plain": [
       "63"
      ]
     },
     "execution_count": 68,
     "metadata": {},
     "output_type": "execute_result"
    }
   ],
   "source": [
    "df['gpa'].nunique()"
   ]
  },
  {
   "cell_type": "markdown",
   "id": "b0b893ab-3c8c-42d5-9786-c2574d89b282",
   "metadata": {},
   "source": [
    "### Boxplot of study hours"
   ]
  },
  {
   "cell_type": "code",
   "execution_count": 37,
   "id": "e876ac26-ec75-49bc-9c95-25b2a60ac7a9",
   "metadata": {},
   "outputs": [
    {
     "data": {
      "text/plain": [
       "<Axes: title={'center': 'study hours'}, xlabel='study_hours'>"
      ]
     },
     "execution_count": 37,
     "metadata": {},
     "output_type": "execute_result"
    },
    {
     "data": {
      "image/png": "[encoded data removed]",
      "text/plain": [
       "<Figure size 600x200 with 1 Axes>"
      ]
     },
     "metadata": {},
     "output_type": "display_data"
    }
   ],
   "source": [
    "plt.figure(figsize=(6,2))\n",
    "plt.title('study hours')\n",
    "sns.boxplot(data=None, x=df['study_hours'], fliersize=1)"
   ]
  },
  {
   "cell_type": "markdown",
   "id": "c3b7c94f-bedf-4c65-91e6-04a3b1163fe5",
   "metadata": {},
   "source": [
    "### Boxplot of GPA"
   ]
  },
  {
   "cell_type": "code",
   "execution_count": 38,
   "id": "2b1ae8b9-8581-4442-a5f2-c72593bcb19b",
   "metadata": {},
   "outputs": [
    {
     "data": {
      "text/plain": [
       "<Axes: title={'center': 'gpa'}, xlabel='gpa'>"
      ]
     },
     "execution_count": 38,
     "metadata": {},
     "output_type": "execute_result"
    },
    {
     "data": {
      "image/png": "[encoded data removed]",
      "text/plain": [
       "<Figure size 600x200 with 1 Axes>"
      ]
     },
     "metadata": {},
     "output_type": "display_data"
    }
   ],
   "source": [
    "plt.figure(figsize=(6,2))\n",
    "plt.title('gpa')\n",
    "sns.boxplot(data=None, x=df['gpa'], fliersize=1)"
   ]
  },
  {
   "cell_type": "markdown",
   "id": "0ad47bd3-abff-401e-bed1-6196b2cb9239",
   "metadata": {},
   "source": [
    "### Histogram of study hours"
   ]
  },
  {
   "cell_type": "code",
   "execution_count": 42,
   "id": "8a8048a8-b656-4744-a2bd-fef98ff13ff7",
   "metadata": {},
   "outputs": [
    {
     "data": {
      "text/plain": [
       "<Axes: title={'center': 'study hours'}, xlabel='study_hours', ylabel='Count'>"
      ]
     },
     "execution_count": 42,
     "metadata": {},
     "output_type": "execute_result"
    },
    {
     "data": {
      "image/png": "[encoded data removed]",
      "text/plain": [
       "<Figure size 800x400 with 1 Axes>"
      ]
     },
     "metadata": {},
     "output_type": "display_data"
    }
   ],
   "source": [
    "plt.figure(figsize=(8,4))\n",
    "plt.title('study hours')\n",
    "sns.histplot(df['study_hours'], bins=range(0, 40, 5))"
   ]
  },
  {
   "cell_type": "markdown",
   "id": "e01dc7ae-4967-4c9f-96a7-94b815ac91d4",
   "metadata": {},
   "source": [
    "### Histogram of GPA"
   ]
  },
  {
   "cell_type": "code",
   "execution_count": 92,
   "id": "3b3000fe-80ff-45f2-ba71-664d751fd2b2",
   "metadata": {},
   "outputs": [
    {
     "data": {
      "text/plain": [
       "array([[<Axes: title={'center': 'gpa'}>]], dtype=object)"
      ]
     },
     "execution_count": 92,
     "metadata": {},
     "output_type": "execute_result"
    },
    {
     "data": {
      "image/png": "[encoded data removed]",
      "text/plain": [
       "<Figure size 640x480 with 1 Axes>"
      ]
     },
     "metadata": {},
     "output_type": "display_data"
    }
   ],
   "source": [
    "df.hist(column='gpa', bins=20)"
   ]
  },
  {
   "cell_type": "markdown",
   "id": "89d54bda-f580-4148-85de-06950fbc043a",
   "metadata": {},
   "source": [
    "### Number of values by study hours"
   ]
  },
  {
   "cell_type": "code",
   "execution_count": 26,
   "id": "1975dadb-445e-4777-9897-5b573af3dd17",
   "metadata": {},
   "outputs": [
    {
     "data": {
      "text/plain": [
       "study_hours\n",
       "10.00    38\n",
       "20.00    28\n",
       "15.00    22\n",
       "30.00    12\n",
       "8.00     10\n",
       "14.00    10\n",
       "12.00     9\n",
       "25.00     8\n",
       "7.00      7\n",
       "35.00     5\n",
       "5.00      5\n",
       "40.00     5\n",
       "6.00      4\n",
       "4.00      3\n",
       "21.00     3\n",
       "60.00     3\n",
       "24.00     3\n",
       "45.00     2\n",
       "28.00     2\n",
       "16.00     2\n",
       "3.00      2\n",
       "18.00     2\n",
       "12.50     1\n",
       "6.50      1\n",
       "49.00     1\n",
       "11.00     1\n",
       "69.00     1\n",
       "2.00      1\n",
       "36.00     1\n",
       "9.00      1\n",
       "Name: count, dtype: int64"
      ]
     },
     "execution_count": 26,
     "metadata": {},
     "output_type": "execute_result"
    }
   ],
   "source": [
    "df['study_hours'].value_counts()"
   ]
  },
  {
   "cell_type": "markdown",
   "id": "28ed3d05-6b37-4bba-999a-5c2f98c5ff14",
   "metadata": {},
   "source": [
    "### Average study hour"
   ]
  },
  {
   "cell_type": "code",
   "execution_count": 30,
   "id": "7b7d1442-fe30-42fb-895d-1085150820e4",
   "metadata": {},
   "outputs": [
    {
     "name": "stdout",
     "output_type": "stream",
     "text": [
      "avg study hour: 17.48\n"
     ]
    }
   ],
   "source": [
    "avg_hours = df['study_hours'].mean()\n",
    "avg_hours = round(avg_hours, 2)\n",
    "print(f'avg study hour: {avg_hours}')"
   ]
  },
  {
   "cell_type": "markdown",
   "id": "b4d0c3a6-7a99-4868-918c-e2e4a7ff02e3",
   "metadata": {},
   "source": [
    "### Number of values by GPA"
   ]
  },
  {
   "cell_type": "code",
   "execution_count": 27,
   "id": "8ca1455a-9db2-4932-a200-d20c91b220d1",
   "metadata": {},
   "outputs": [
    {
     "data": {
      "text/plain": [
       "gpa\n",
       "3.70    16\n",
       "3.60    14\n",
       "3.40    13\n",
       "3.80    13\n",
       "3.50    12\n",
       "        ..\n",
       "3.79     1\n",
       "2.91     1\n",
       "3.56     1\n",
       "3.69     1\n",
       "3.62     1\n",
       "Name: count, Length: 63, dtype: int64"
      ]
     },
     "execution_count": 27,
     "metadata": {},
     "output_type": "execute_result"
    }
   ],
   "source": [
    "df['gpa'].value_counts()"
   ]
  }
 ],
 "metadata": {
  "kernelspec": {
   "display_name": "Python 3 (ipykernel)",
   "language": "python",
   "name": "python3"
  },
  "language_info": {
   "codemirror_mode": {
    "name": "ipython",
    "version": 3
   },
   "file_extension": ".py",
   "mimetype": "text/x-python",
   "name": "python",
   "nbconvert_exporter": "python",
   "pygments_lexer": "ipython3",
   "version": "3.10.5"
  }
 },
 "nbformat": 4,
 "nbformat_minor": 5
}
